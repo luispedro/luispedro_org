{
 "metadata": {
  "name": ""
 },
 "nbformat": 3,
 "nbformat_minor": 0,
 "worksheets": [
  {
   "cells": [
    {
     "cell_type": "code",
     "collapsed": false,
     "input": [
      "%matplotlib inline\n",
      "import mahotas as mh\n",
      "from matplotlib import pyplot as plt\n",
      "from IPython.html.widgets import interact"
     ],
     "language": "python",
     "metadata": {},
     "outputs": []
    },
    {
     "cell_type": "code",
     "collapsed": false,
     "input": [
      "im = mh.imread('image_stretched.jpeg')"
     ],
     "language": "python",
     "metadata": {},
     "outputs": []
    },
    {
     "cell_type": "code",
     "collapsed": false,
     "input": [
      "plt.imshow(im)"
     ],
     "language": "python",
     "metadata": {},
     "outputs": []
    },
    {
     "cell_type": "code",
     "collapsed": false,
     "input": [
      "@interact(sigma=(1.0,20.0))\n",
      "def filter_threshold(sigma):\n",
      "    print(\"Called with sigma={}\".format(sigma))\n",
      "    imf = mh.gaussian_filter(im.mean(2), sigma)\n",
      "    binary = (imf > imf.mean())\n",
      "    labeled, _ = mh.label(binary)\n",
      "    plt.imshow(labeled)\n",
      "    plt.jet()"
     ],
     "language": "python",
     "metadata": {},
     "outputs": []
    },
    {
     "cell_type": "code",
     "collapsed": false,
     "input": [],
     "language": "python",
     "metadata": {},
     "outputs": []
    }
   ],
   "metadata": {}
  }
 ]
}